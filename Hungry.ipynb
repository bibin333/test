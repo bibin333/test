{
 "cells": [
  {
   "cell_type": "code",
   "execution_count": 8,
   "id": "e5a495e1",
   "metadata": {},
   "outputs": [
    {
     "name": "stdout",
     "output_type": "stream",
     "text": [
      "Are you Hungry? Yes/NoYes\n",
      " Go, preach the good news\n"
     ]
    }
   ],
   "source": [
    "hungry = input(\"Are you Hungry? Yes/No\")\n",
    "if hungry == \"yes\":\n",
    "    print (\"Come to Jesus.\")\n",
    "else:\n",
    "    print (\" Go, preach the good news\")"
   ]
  },
  {
   "cell_type": "code",
   "execution_count": null,
   "id": "bfc16c91",
   "metadata": {},
   "outputs": [],
   "source": []
  }
 ],
 "metadata": {
  "kernelspec": {
   "display_name": "Python 3 (ipykernel)",
   "language": "python",
   "name": "python3"
  },
  "language_info": {
   "codemirror_mode": {
    "name": "ipython",
    "version": 3
   },
   "file_extension": ".py",
   "mimetype": "text/x-python",
   "name": "python",
   "nbconvert_exporter": "python",
   "pygments_lexer": "ipython3",
   "version": "3.9.7"
  }
 },
 "nbformat": 4,
 "nbformat_minor": 5
}
